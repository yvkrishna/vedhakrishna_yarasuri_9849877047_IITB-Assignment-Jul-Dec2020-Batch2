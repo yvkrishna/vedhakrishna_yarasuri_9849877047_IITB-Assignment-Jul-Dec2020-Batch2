{
  "nbformat": 4,
  "nbformat_minor": 0,
  "metadata": {
    "colab": {
      "name": "main_file_OCR.ipynb",
      "provenance": [],
      "private_outputs": true,
      "collapsed_sections": []
    },
    "kernelspec": {
      "name": "python3",
      "display_name": "Python 3"
    }
  },
  "cells": [
    {
      "cell_type": "code",
      "metadata": {
        "id": "W8m8WOPTwpy2",
        "colab_type": "code",
        "colab": {}
      },
      "source": [
        "import tensorflow as tf\n",
        "import tensorflow_hub as hub\n",
        "from keras.preprocessing import image\n",
        "from keras.layers import Bidirectional, Concatenate, Permute, Dot, Input, LSTM, Multiply, RepeatVector, Dense, Activation, Lambda\n",
        "from keras.models import Model"
      ],
      "execution_count": null,
      "outputs": []
    },
    {
      "cell_type": "code",
      "metadata": {
        "id": "sR97shHlw5-i",
        "colab_type": "code",
        "colab": {}
      },
      "source": [
        "import matplotlib.pylab as plt\n",
        "import os\n",
        "from PIL import Image, ImageFilter\n",
        "import h5py\n",
        "import tarfile\n",
        "from google.colab import files\n",
        "import numpy as np\n",
        "import cv2"
      ],
      "execution_count": null,
      "outputs": []
    },
    {
      "cell_type": "code",
      "metadata": {
        "id": "cQBoWimx6Hdd",
        "colab_type": "code",
        "colab": {}
      },
      "source": [
        "import tensorflow.compat.v1 as tf2\n",
        "tf2.disable_v2_behavior()\n",
        "tf2.enable_eager_execution()"
      ],
      "execution_count": null,
      "outputs": []
    },
    {
      "cell_type": "code",
      "metadata": {
        "id": "pHk4axl8W6D1",
        "colab_type": "code",
        "colab": {}
      },
      "source": [
        "'''\n",
        "  - > Dataset is obtained from file 'IIIT5K-Word_V3.0.tar.gz'.\n",
        "  - >The Dataset contains several files and 2 folders train and test\n",
        "  - >Filed named traindata.m and testdata.m contains all the information related\n",
        "       to the train and test images and their annotations respectively.\n",
        "'''\n",
        "os.chdir('/content')\n",
        "tar = tarfile.open('IIIT5K-Word_V3.0.tar.gz')\n",
        "tar.extractall()\n",
        "tar.close()"
      ],
      "execution_count": null,
      "outputs": []
    },
    {
      "cell_type": "code",
      "metadata": {
        "id": "pujVgS_zW9uB",
        "colab_type": "code",
        "colab": {}
      },
      "source": [
        "os.chdir('IIIT5K')\n",
        "base_dir = os.getcwd()\n",
        "train_dir = os.path.join(base_dir, 'train')\n",
        "test_dir = os.path.join(base_dir,'test')\n",
        "print(train_dir)"
      ],
      "execution_count": null,
      "outputs": []
    },
    {
      "cell_type": "code",
      "metadata": {
        "id": "Ih308zqJW9w_",
        "colab_type": "code",
        "colab": {}
      },
      "source": [
        "num_imgs_train = len(os.listdir(train_dir))\n",
        "num_imgs_test = len(os.listdir(test_dir))\n",
        "print(\"number of images in training dataset is {}\".format(num_imgs_train))\n",
        "print(\"number of images in testing dataset is {}\".format(num_imgs_test))"
      ],
      "execution_count": null,
      "outputs": []
    },
    {
      "cell_type": "code",
      "metadata": {
        "id": "_8wg_gtuXHZH",
        "colab_type": "code",
        "colab": {}
      },
      "source": [
        ""
      ],
      "execution_count": null,
      "outputs": []
    },
    {
      "cell_type": "code",
      "metadata": {
        "id": "kmxK6dtmXHiW",
        "colab_type": "code",
        "colab": {}
      },
      "source": [
        "def rotateImages(rotationAmt):\n",
        "  '''\n",
        "   -> rotateImages is used as one of the image augumentation techniques to \n",
        "      increase the dataset thereby increasing the accuracy.\n",
        "   -> rotateImages function rotates images in the current directory.\n",
        "\n",
        "   ARGS **\n",
        "   rotationAmt : ( Integer ) The value of rotation in the image ( ~ + or - 15 )\n",
        "  '''\n",
        "  # for each image in the current directory\n",
        "  for image in os.listdir(os.getcwd()):\n",
        "    # open the image\n",
        "    if (image.find(\"rot\") == -1):\n",
        "      img = Image.open(image)\n",
        "      img_name = list(image.split(\".\"))[0]\n",
        "      # rotate and save the image with the same filename\n",
        "      rotimg = img.rotate(rotationAmt)\n",
        "      rotimg.save(img_name+\"rot\"+str(rotationAmt)+\".jpg\")\n",
        "      # close the image\n",
        "      img.close()  \n"
      ],
      "execution_count": null,
      "outputs": []
    },
    {
      "cell_type": "code",
      "metadata": {
        "id": "_hSGspcwXdFK",
        "colab_type": "code",
        "colab": {}
      },
      "source": [
        "def addBlur():\n",
        "  for image in os.listdir(os.getcwd()):\n",
        "    img = Image.open(image)\n",
        "    blur = img.filter(ImageFilter.BLUR)\n",
        "    img_name = list(image.split(\".\"))[0]\n",
        "    blur.save(img_name+\"blur.jpg\")\n"
      ],
      "execution_count": null,
      "outputs": []
    },
    {
      "cell_type": "code",
      "metadata": {
        "id": "RGHJZrhXMZ5v",
        "colab_type": "code",
        "colab": {}
      },
      "source": [
        "!pwd"
      ],
      "execution_count": null,
      "outputs": []
    },
    {
      "cell_type": "code",
      "metadata": {
        "id": "DZfdEoLsMCNL",
        "colab_type": "code",
        "colab": {}
      },
      "source": [
        "def preprocessing():\n",
        "  rotateImages(15)\n",
        "  rotateImages(-15)\n",
        "  addBlur()"
      ],
      "execution_count": null,
      "outputs": []
    },
    {
      "cell_type": "code",
      "metadata": {
        "id": "b_HktKP1Mxy3",
        "colab_type": "code",
        "colab": {}
      },
      "source": [
        "os.chdir('train')\n",
        "preprocessing()\n",
        "os.chdir('/content/IIIT5K/test')\n",
        "preprocessing()\n",
        "os.chdir('/content/IIIT5K')"
      ],
      "execution_count": null,
      "outputs": []
    },
    {
      "cell_type": "code",
      "metadata": {
        "id": "XHO6mcPMJQrl",
        "colab_type": "code",
        "colab": {}
      },
      "source": [
        "# loading inception_resnet_v2 trained on imagenet dataset as per https://arxiv.org/pdf/1704.03549.pdf\n",
        "\n",
        "# URL = \"https://tfhub.dev/google/faster_rcnn/openimages_v4/inception_resnet_v2/1\"\n",
        "#feature_extractor = hub.KerasLayer(URL,\n",
        "#                                   input_shape=(IMAGE_RES, IMAGE_RES,3))\n",
        "\n",
        "main_model = tf.keras.applications.InceptionResNetV2(include_top=True, weights='imagenet', pooling=None)\n"
      ],
      "execution_count": null,
      "outputs": []
    },
    {
      "cell_type": "code",
      "metadata": {
        "id": "cYVdO01LJQwY",
        "colab_type": "code",
        "colab": {}
      },
      "source": [
        "# freezing the weights of the model and removing the last layer\n",
        "main_model.trainable = False\n",
        "main_model.summary()"
      ],
      "execution_count": null,
      "outputs": []
    },
    {
      "cell_type": "code",
      "metadata": {
        "id": "50huDsy5Xlwr",
        "colab_type": "code",
        "colab": {}
      },
      "source": [
        "def load_and_process_img(path_to_img):\n",
        "  img = plt.imread(path_to_img)\n",
        "  #img = tf.convert_to_tensor(img)\n",
        "  #img = tf.image.resize(img,[1014, 1280])\n",
        "  img = image.load_img(path_to_img, target_size=(299,299, 3))\n",
        "  img = image.img_to_array(img)\n",
        "  img = np.expand_dims(img, axis=0)\n",
        "  #img = tf.keras.applications.vgg19.preprocess_input(img)\n",
        "  return img"
      ],
      "execution_count": null,
      "outputs": []
    },
    {
      "cell_type": "code",
      "metadata": {
        "id": "O9FssgqrXt8I",
        "colab_type": "code",
        "colab": {}
      },
      "source": [
        "os.chdir('train')\n",
        "other_layers = ['block8_1_conv', 'mixed_7a'] \n",
        "layer_name = 'mixed_7a'\n",
        "layer_output = main_model.get_layer(layer_name).output\n",
        "model_cnn = tf.keras.Model(inputs=main_model.input, outputs=layer_output)\n",
        "#input_data = Image.open('1009_2.png')\n",
        "input_data = load_and_process_img('1009_2.png')\n",
        "result = model_cnn.predict(input_data)\n",
        "print(list(result.shape))\n",
        "(m,n_H,n_W,n_C) = result.shape\n",
        "reshaped_result = tf.reshape(result, shape=(m,n_H*n_W,n_C))\n",
        "print(reshaped_result.shape)\n",
        "os.chdir('/content/IIIT5K')"
      ],
      "execution_count": null,
      "outputs": []
    },
    {
      "cell_type": "code",
      "metadata": {
        "id": "gT7JgtokXt_Z",
        "colab_type": "code",
        "colab": {}
      },
      "source": [
        "square = 8\n",
        "ix = 1\n",
        "for _ in range(square):\n",
        "\tfor _ in range(square):\n",
        "\t\t# specify subplot and turn of axis\n",
        "\t\tax = plt.subplot(square, square, ix)\n",
        "\t\tax.set_xticks([])\n",
        "\t\tax.set_yticks([])\n",
        "\t\t# plot filter channel in grayscale\n",
        "\t\tplt.imshow(result[0, :, :, ix-1], cmap='gray')\n",
        "\t\tix += 1\n",
        "# show the figure\n",
        "plt.show()\n",
        "plt.savefig('Activations.png')"
      ],
      "execution_count": null,
      "outputs": []
    },
    {
      "cell_type": "code",
      "metadata": {
        "id": "BX2VMT1_NPke",
        "colab_type": "code",
        "colab": {}
      },
      "source": [
        "square = 8\n",
        "ix = 1\n",
        "sf = 1087\n",
        "for _ in range(square):\n",
        "\tfor _ in range(square):\n",
        "\t\t# specify subplot and turn of axis\n",
        "\t\tax = plt.subplot(square, square, ix)\n",
        "\t\tax.set_xticks([])\n",
        "\t\tax.set_yticks([])\n",
        "\t\t# plot filter channel in grayscale\n",
        "\t\tplt.imshow(result[0, :, :, sf], cmap='gray')\n",
        "\t\tix += 1;sf -= 1;\n",
        "# show the figure\n",
        "plt.show()\n",
        "plt.savefig('Activations.png')"
      ],
      "execution_count": null,
      "outputs": []
    },
    {
      "cell_type": "code",
      "metadata": {
        "id": "cLyML8InXuEA",
        "colab_type": "code",
        "colab": {}
      },
      "source": [
        "def string_to_int(string, length, vocab):\n",
        "\n",
        "    string = string.lower()\n",
        "    if len(string) > length:\n",
        "        string = string[:length]\n",
        "    rep = list(map(lambda x: vocab.get(x, '<unk>'), string))\n",
        "    \n",
        "    if len(string) < length:\n",
        "        rep += [vocab['<pad>']] * (length - len(string))\n",
        "\n",
        "    return rep"
      ],
      "execution_count": null,
      "outputs": []
    },
    {
      "cell_type": "code",
      "metadata": {
        "id": "EaP2ZeTZX_Y_",
        "colab_type": "code",
        "colab": {}
      },
      "source": [
        "# vocabulary has been taken from internet \n",
        "vocab = {' ': 0, '.': 1, '/': 2, '0': 3, '1': 4, '2': 5, '3': 6, '4': 7, '5': 8, '6': 9, '7': 10, '8': 11, '9': 12, 'a': 13, 'b': 14, 'c': 15, 'd': 16, 'e': 17, 'f': 18, 'g': 19, 'h': 20, 'i': 21, 'j': 22, 'l': 23, 'm': 24, 'n': 25, 'o': 26, 'p': 27, 'r': 28, 's': 29, 't': 30, 'u': 31, 'v': 32, 'w': 33, 'y': 34, '<unk>': 35, '<pad>': 36}"
      ],
      "execution_count": null,
      "outputs": []
    },
    {
      "cell_type": "code",
      "metadata": {
        "id": "jXnWuYzaX_cR",
        "colab_type": "code",
        "colab": {}
      },
      "source": [
        "def load_output(filename,T_Y,vocab):\n",
        "\n",
        "  os.chdir('/content/IIIT5K')\n",
        "  text_file = open(filename, \"r\")\n",
        "  text = text_file.readlines()\n",
        "  text = [ word[0:len(word)-1] for word in text]\n",
        "\n",
        "  Y = np.array([string_to_int(word,T_Y,vocab) for word in text])\n",
        "\n",
        "  return Y"
      ],
      "execution_count": null,
      "outputs": []
    },
    {
      "cell_type": "code",
      "metadata": {
        "id": "4p6RfwLHX_ib",
        "colab_type": "code",
        "colab": {}
      },
      "source": [
        "Output_array = load_output(\"Train_labels.txt\",20,vocab)"
      ],
      "execution_count": null,
      "outputs": []
    },
    {
      "cell_type": "code",
      "metadata": {
        "id": "Ie5KpN5rX_mA",
        "colab_type": "code",
        "colab": {}
      },
      "source": [
        "n_a = 64 # number of units for the pre-attention, bi-directional LSTM's hidden state 'a'\n",
        "n_s = 120 # number of units for the post-attention, bi-directionsl LSTM's hidden state \"s\"\n",
        "T_X = list(reshaped_result.shape)[1]\n",
        "feature_length = list(reshaped_result.shape)[2] \n",
        "T_Y = 20\n",
        "print(T_X,feature_length)"
      ],
      "execution_count": null,
      "outputs": []
    },
    {
      "cell_type": "code",
      "metadata": {
        "id": "OlwEMh94X_hT",
        "colab_type": "code",
        "colab": {}
      },
      "source": [
        "# Defined shared layers as global variables\n",
        "repeat = RepeatVector(T_X)\n",
        "concat = Concatenate(axis=-1)\n",
        "dense1 = Dense(10, activation = \"tanh\")\n",
        "dense2 = Dense(1, activation = \"relu\")\n",
        "activation = Activation(activation=\"softmax\", name='attention_weights')\n",
        "dot = Dot(axes = 1)"
      ],
      "execution_count": null,
      "outputs": []
    },
    {
      "cell_type": "code",
      "metadata": {
        "id": "iRx3abM3X_Xf",
        "colab_type": "code",
        "colab": {}
      },
      "source": [
        "def attention(a, s_prev):\n",
        "  s_prev = repeat(s_prev)\n",
        "  concat_value = concat([a,s_prev])\n",
        "  e = dense1(concat_value)\n",
        "  energies = dense2(e)\n",
        "  alphas = activation(energies)\n",
        "  context = dot([alphas,a])\n",
        "  return context"
      ],
      "execution_count": null,
      "outputs": []
    },
    {
      "cell_type": "code",
      "metadata": {
        "id": "RfyWA2PKYTmG",
        "colab_type": "code",
        "colab": {}
      },
      "source": [
        "post_activation_LSTM_cell = Bidirectional(LSTM(n_s, return_state = True))\n",
        "output_layer = Dense(20, activation=\"softmax\")"
      ],
      "execution_count": null,
      "outputs": []
    },
    {
      "cell_type": "code",
      "metadata": {
        "id": "reJyWEJkYTqE",
        "colab_type": "code",
        "colab": {}
      },
      "source": [
        "def seq2seq_model(T_X, T_Y, n_a, n_s,feature_length):\n",
        "\n",
        "  X = Input(shape=(T_X, feature_length))\n",
        "  s0 = Input(shape=(n_s,), name='s0')\n",
        "  c0 = Input(shape=(n_s,), name='c0')\n",
        "  s = s0\n",
        "  c = c0\n",
        "  outputs = []\n",
        "  tf.reshape(s, shape=(120,120))\n",
        "  print(s)\n",
        "\n",
        "  a = Bidirectional(LSTM(n_a, return_sequences=True))(X)\n",
        "  for t in range(T_Y):\n",
        "        context = attention(a,s)\n",
        "        s, _, c = post_activation_LSTM_cell(context, initial_state = [s,c])\n",
        "        print(t)\n",
        "        out = output_layer(s)\n",
        "        outputs.append(out)\n",
        "\n",
        "  model = Model(inputs = [X,s0,c0], outputs = outputs)\n",
        "  return model"
      ],
      "execution_count": null,
      "outputs": []
    },
    {
      "cell_type": "code",
      "metadata": {
        "id": "xRgg9WwmYTkk",
        "colab_type": "code",
        "colab": {}
      },
      "source": [
        "model = seq2seq_model(T_X, T_Y, n_a, n_s, feature_length)"
      ],
      "execution_count": null,
      "outputs": []
    },
    {
      "cell_type": "code",
      "metadata": {
        "id": "bM_yo26T5uyN",
        "colab_type": "code",
        "colab": {}
      },
      "source": [
        ""
      ],
      "execution_count": null,
      "outputs": []
    },
    {
      "cell_type": "code",
      "metadata": {
        "id": "beKI-EqbXuBw",
        "colab_type": "code",
        "colab": {}
      },
      "source": [
        "  \n",
        "  X = Input(shape=(T_X, feature_length))\n",
        "  print(\"X is \",X)\n",
        "  s0 = Input(shape=(n_s,), name='s0')\n",
        "  c0 = Input(shape=(n_s,), name='c0')\n",
        "  s = s0\n",
        "  c = c0\n",
        "  print(\"S is \",s)\n",
        "  print(\"C is \",c)\n",
        "    \n",
        "  outputs = []\n",
        "\n",
        "  a = Bidirectional(LSTM(n_a, return_sequences = True))(X)\n",
        "  print(\"a and s are \",a,s)\n",
        "\n",
        "  for t in range(T_Y):\n",
        "        context = attention(a,s)\n",
        "        s, _, c = post_activation_LSTM_cell(context, initial_state = [tf.zeros([1, 120]), tf.eye(120, batch_shape=[1])])\n",
        "        out = output_layer(s)\n",
        "        outputs.append(out)\n",
        "\n",
        "  model = Model(inputs = [X,s0,c0], outputs = outputs)"
      ],
      "execution_count": null,
      "outputs": []
    },
    {
      "cell_type": "code",
      "metadata": {
        "id": "77XHInRiXt6z",
        "colab_type": "code",
        "colab": {}
      },
      "source": [
        "    X = Input(shape=(T_X, feature_length))\n",
        "    print(\"X is \",X)\n",
        "    s0 = Input(shape=(n_s,), name='s0')\n",
        "    c0 = Input(shape=(n_s,), name='c0')\n",
        "    s = s0\n",
        "    c = c0\n",
        "    print(\"S is \",s)\n",
        "    print(\"C is \",c)\n",
        "    \n",
        "    # Initialize empty list of outputs\n",
        "    outputs = []\n",
        "    \n",
        "    ### START CODE HERE ###\n",
        "    \n",
        "    # Step 1: Define your pre-attention Bi-LSTM. (≈ 1 line)\n",
        "    a = Bidirectional(LSTM(n_a,return_sequences=True))(X)\n",
        "    print(\"a and s are \",a,s)\n",
        "    # Step 2: Iterate for Ty steps\n",
        "    for t in range(T_Y):\n",
        "    \n",
        "        # Step 2.A: Perform one step of the attention mechanism to get back the context vector at step t (≈ 1 line)\n",
        "        context = attention(a,s)\n",
        "        print(context)\n",
        "        # Step 2.B: Apply the post-attention LSTM cell to the \"context\" vector.\n",
        "        # Don't forget to pass: initial_state = [hidden state, cell state] (≈ 1 line)\n",
        "        s, _, c = post_activation_LSTM_cell(context, initial_state = [s,c])\n",
        "        \n",
        "        # Step 2.C: Apply Dense layer to the hidden state output of the post-attention LSTM (≈ 1 line)\n",
        "        out = output_layer(s)\n",
        "        \n",
        "        # Step 2.D: Append \"out\" to the \"outputs\" list (≈ 1 line)\n",
        "        outputs.append(out)"
      ],
      "execution_count": null,
      "outputs": []
    },
    {
      "cell_type": "code",
      "metadata": {
        "id": "xD40XTMlXg0w",
        "colab_type": "code",
        "colab": {}
      },
      "source": [
        ""
      ],
      "execution_count": null,
      "outputs": []
    },
    {
      "cell_type": "code",
      "metadata": {
        "id": "jSS7nhA5XYx2",
        "colab_type": "code",
        "colab": {}
      },
      "source": [
        ""
      ],
      "execution_count": null,
      "outputs": []
    },
    {
      "cell_type": "code",
      "metadata": {
        "id": "pJsuxbGiYbWh",
        "colab_type": "code",
        "colab": {}
      },
      "source": [
        ""
      ],
      "execution_count": null,
      "outputs": []
    },
    {
      "cell_type": "code",
      "metadata": {
        "id": "OnIaaLaMYbar",
        "colab_type": "code",
        "colab": {}
      },
      "source": [
        ""
      ],
      "execution_count": null,
      "outputs": []
    },
    {
      "cell_type": "code",
      "metadata": {
        "id": "JLX3uDRBYbVg",
        "colab_type": "code",
        "colab": {}
      },
      "source": [
        ""
      ],
      "execution_count": null,
      "outputs": []
    },
    {
      "cell_type": "code",
      "metadata": {
        "id": "6ZZqcd83xDwZ",
        "colab_type": "code",
        "colab": {}
      },
      "source": [
        "!git clone \"https://github.com/oh-my-ocr/text_renderer\""
      ],
      "execution_count": null,
      "outputs": []
    },
    {
      "cell_type": "code",
      "metadata": {
        "id": "AwG9V8_txGlq",
        "colab_type": "code",
        "colab": {}
      },
      "source": [
        "os.chdir(\"text_renderer\")"
      ],
      "execution_count": null,
      "outputs": []
    },
    {
      "cell_type": "code",
      "metadata": {
        "id": "jnCRDyDOJ6Tu",
        "colab_type": "code",
        "colab": {}
      },
      "source": [
        "!python3 setup.py develop"
      ],
      "execution_count": null,
      "outputs": []
    },
    {
      "cell_type": "code",
      "metadata": {
        "id": "UNqkYOT1xLwn",
        "colab_type": "code",
        "colab": {}
      },
      "source": [
        "!pip3 install -r docker/requirements.txt"
      ],
      "execution_count": null,
      "outputs": []
    },
    {
      "cell_type": "code",
      "metadata": {
        "id": "ArT6fN_NxN5D",
        "colab_type": "code",
        "colab": {}
      },
      "source": [
        "!python3 main.py \\\n",
        "    --config example_data/example.py \\\n",
        "    --dataset img \\\n",
        "    --num_processes 2 \\\n",
        "    --log_period 10"
      ],
      "execution_count": null,
      "outputs": []
    },
    {
      "cell_type": "code",
      "metadata": {
        "id": "tPU3geHixPtL",
        "colab_type": "code",
        "colab": {}
      },
      "source": [
        "!zip -r Dataset.zip /content/output"
      ],
      "execution_count": null,
      "outputs": []
    },
    {
      "cell_type": "code",
      "metadata": {
        "id": "Y7IZvT33xRa2",
        "colab_type": "code",
        "colab": {}
      },
      "source": [
        "files.download('Dataset.zip')"
      ],
      "execution_count": null,
      "outputs": []
    },
    {
      "cell_type": "code",
      "metadata": {
        "id": "wGoMODP-jcIE",
        "colab_type": "code",
        "colab": {}
      },
      "source": [
        "!git clone --single-branch --branch python3 \"https://github.com/ankush-me/SynthText.git\" "
      ],
      "execution_count": null,
      "outputs": []
    }
  ]
}